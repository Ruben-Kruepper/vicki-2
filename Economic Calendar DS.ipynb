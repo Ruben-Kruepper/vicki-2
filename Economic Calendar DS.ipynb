{
 "cells": [
  {
   "cell_type": "code",
   "execution_count": 1,
   "metadata": {},
   "outputs": [],
   "source": [
    "from lib.fxstreet_calendar  import FxstreetCalendar\n",
    "from lib.vicki_operator import Operator"
   ]
  },
  {
   "cell_type": "code",
   "execution_count": 2,
   "metadata": {},
   "outputs": [],
   "source": [
    "api = FxstreetCalendar()"
   ]
  },
  {
   "cell_type": "code",
   "execution_count": 3,
   "metadata": {},
   "outputs": [],
   "source": [
    "op = Operator('Economic Calendar Definitions')"
   ]
  },
  {
   "cell_type": "code",
   "execution_count": 5,
   "metadata": {},
   "outputs": [],
   "source": [
    "import pandas as pd\n",
    "from datetime import datetime as dt\n",
    "from datetime import timedelta\n",
    "from datetime import date\n",
    "import time\n",
    "import requests\n",
    "import json"
   ]
  },
  {
   "cell_type": "code",
   "execution_count": 6,
   "metadata": {},
   "outputs": [],
   "source": [
    "from_ = dt.today()+timedelta(days=1)\n",
    "to_   = dt.today()+timedelta(days=7)\n",
    "events_master = api.get_calendar_df(from_=from_, to_=to_)\n",
    "for x in range(1, 25):\n",
    "    from_ = dt.today()+timedelta(days=x*7 + 1)\n",
    "    to_ = dt.today()+timedelta(days=(x+1)*7)\n",
    "    events_master = pd.concat([events_master, api.get_calendar_df(from_=from_, to_=to_)])\n",
    "    time.sleep(3)"
   ]
  },
  {
   "cell_type": "code",
   "execution_count": 8,
   "metadata": {},
   "outputs": [],
   "source": [
    "high_volatility = events_master[events_master['volatility']=='HIGH']"
   ]
  },
  {
   "cell_type": "code",
   "execution_count": 9,
   "metadata": {},
   "outputs": [],
   "source": [
    "top_names = high_volatility.value_counts('name')\n",
    "top_names = list(top_names[top_names>1].index)"
   ]
  },
  {
   "cell_type": "code",
   "execution_count": 10,
   "metadata": {},
   "outputs": [],
   "source": [
    "high_volatility = high_volatility[high_volatility['name'].isin(top_names)]"
   ]
  },
  {
   "cell_type": "code",
   "execution_count": 11,
   "metadata": {},
   "outputs": [],
   "source": [
    "mid_volatility = events_master[events_master['volatility']=='MEDIUM']"
   ]
  },
  {
   "cell_type": "code",
   "execution_count": 12,
   "metadata": {},
   "outputs": [],
   "source": [
    "top_names = mid_volatility.value_counts('name')\n",
    "top_names = list(top_names[top_names>3].index)"
   ]
  },
  {
   "cell_type": "code",
   "execution_count": 13,
   "metadata": {},
   "outputs": [],
   "source": [
    "mid_volatility = mid_volatility[mid_volatility['name'].isin(top_names)]"
   ]
  },
  {
   "cell_type": "code",
   "execution_count": 14,
   "metadata": {},
   "outputs": [],
   "source": [
    "out_master = pd.concat([high_volatility, mid_volatility])\n",
    "out_master = out_master.drop_duplicates(['name'])"
   ]
  },
  {
   "cell_type": "code",
   "execution_count": 15,
   "metadata": {},
   "outputs": [],
   "source": [
    "out_master['translated_name'] = out_master['name']"
   ]
  },
  {
   "cell_type": "code",
   "execution_count": 16,
   "metadata": {},
   "outputs": [
    {
     "data": {
      "text/plain": [
       "142"
      ]
     },
     "execution_count": 16,
     "metadata": {},
     "output_type": "execute_result"
    }
   ],
   "source": [
    "len(out_master)"
   ]
  },
  {
   "cell_type": "code",
   "execution_count": 17,
   "metadata": {},
   "outputs": [],
   "source": [
    "known_good_defs = op.workbook.sheet_to_df(sheet='English')\n",
    "out_master = out_master[~out_master['name'].isin(known_good_defs['name'])]\n",
    "out_master = pd.concat([known_good_defs, out_master])"
   ]
  },
  {
   "cell_type": "markdown",
   "metadata": {},
   "source": [
    "### Sim Functions"
   ]
  },
  {
   "cell_type": "code",
   "execution_count": 9,
   "metadata": {},
   "outputs": [],
   "source": [
    "def select_events(events_df: pd.DataFrame, currencies, max_number):\n",
    "    events_by_currency = []\n",
    "    for i in range(5):\n",
    "        for x in currencies:\n",
    "            currency_events = events_df[events_df['currencyCode']==x]\n",
    "            if len(currency_events) > 0:\n",
    "                if len(currency_events) <= i:\n",
    "                    events_by_currency.append(currency_events)\n",
    "                else:\n",
    "                    events_by_currency.append(currency_events.sort_values('volatility').head(i))\n",
    "        if sum(len(y) for y in events_by_currency) >= max_number:\n",
    "            break\n",
    "        elif i < 4:\n",
    "            events_by_currency = []\n",
    "    selected_rows = pd.concat(events_by_currency)\n",
    "    if len(selected_rows) > max_number:\n",
    "        return selected_rows.sample(max_number)\n",
    "    return selected_rows"
   ]
  },
  {
   "cell_type": "markdown",
   "metadata": {},
   "source": [
    "### Approach\n",
    "Take high and medium volatility events that appear often\n",
    "\n",
    "Calculate approximately minimum cover for the \"holes\" left"
   ]
  },
  {
   "cell_type": "code",
   "execution_count": 26,
   "metadata": {},
   "outputs": [
    {
     "name": "stdout",
     "output_type": "stream",
     "text": [
      "202\n"
     ]
    }
   ],
   "source": [
    "out_master = op.workbook.sheet_to_df(sheet='Economic Calendar Definitions')\n",
    "print(len(out_master))\n",
    "# l1_currencies = ['USD', 'CNY', 'JPY', 'KRW', 'AUD']\n",
    "l1_currencies = ['USD', 'EUR', 'JPY', 'GBP', 'AUD', 'NZD', 'KRW', 'HKD', 'SGD', 'CNY', 'CAD']"
   ]
  },
  {
   "cell_type": "code",
   "execution_count": 27,
   "metadata": {},
   "outputs": [
    {
     "data": {
      "text/plain": [
       "0"
      ]
     },
     "execution_count": 27,
     "metadata": {},
     "output_type": "execute_result"
    }
   ],
   "source": [
    "countries = set([])\n",
    "patchers = []\n",
    "from_ = date.today() + timedelta(days=150)\n",
    "for x in range(148):\n",
    "    from_ -= timedelta(days=1)\n",
    "    if from_.weekday() in [5,6]:\n",
    "        continue\n",
    "    day_events = events_master[events_master['dateUtc'].dt.date==from_]\n",
    "    known_coming = pd.merge(left=day_events, right=out_master[['name', 'translated_name']], how='inner', on='name')\n",
    "    try:\n",
    "        selected_events = select_events(known_coming, l1_currencies, 6)\n",
    "        for x in selected_events['countryCode'].unique():\n",
    "            countries.add(x)\n",
    "        if len(selected_events) < 6:\n",
    "            print(from_)\n",
    "            patchers += day_events.to_dict('records')\n",
    "    except ValueError as e:\n",
    "        print(e)\n",
    "        print(len(known_coming))\n",
    "len(patchers)"
   ]
  },
  {
   "cell_type": "code",
   "execution_count": 11,
   "metadata": {},
   "outputs": [
    {
     "name": "stdout",
     "output_type": "stream",
     "text": [
      "PT\n",
      "GR\n",
      "NL\n",
      "BE\n",
      "AT\n",
      "IE\n",
      "FI\n"
     ]
    }
   ],
   "source": [
    "active_countries = [\n",
    "    'US',\n",
    "    'EMU',\n",
    "    'JP',\n",
    "    'AU',\n",
    "    'NZ',\n",
    "    'CN',\n",
    "    'CA',\n",
    "    'SG',\n",
    "    'HK',\n",
    "    'KR',\n",
    "    'DE',\n",
    "    'IT',\n",
    "    'UK',\n",
    "    'ES',\n",
    "    'FR'\n",
    "]\n",
    "for x in countries:\n",
    "    if not x in active_countries:\n",
    "        print(x)"
   ]
  },
  {
   "cell_type": "code",
   "execution_count": 28,
   "metadata": {},
   "outputs": [
    {
     "data": {
      "text/plain": [
       "array(['FR', 'ES', 'US', 'KR', 'PL', 'DE', 'CN', 'ZA', 'RU', 'UK', 'NZ',\n",
       "       'NL', 'CZ', 'BE', 'AU', 'CH', 'JP'], dtype=object)"
      ]
     },
     "execution_count": 28,
     "metadata": {},
     "output_type": "execute_result"
    }
   ],
   "source": [
    "patchers_df['countryCode'].unique()"
   ]
  },
  {
   "cell_type": "code",
   "execution_count": 12,
   "metadata": {},
   "outputs": [],
   "source": [
    "patchers_df = pd.DataFrame(patchers).drop_duplicates(['name'])\n",
    "patchers_df = patchers_df[~patchers_df['name'].isin(out_master['name'])]"
   ]
  },
  {
   "cell_type": "code",
   "execution_count": 18,
   "metadata": {},
   "outputs": [
    {
     "data": {
      "text/plain": [
       "24"
      ]
     },
     "execution_count": 18,
     "metadata": {},
     "output_type": "execute_result"
    }
   ],
   "source": [
    "len(patchers_df[patchers_df['currencyCode'].isin(l1_currencies)])"
   ]
  },
  {
   "cell_type": "code",
   "execution_count": 17,
   "metadata": {},
   "outputs": [
    {
     "data": {
      "text/plain": [
       "173"
      ]
     },
     "execution_count": 17,
     "metadata": {},
     "output_type": "execute_result"
    }
   ],
   "source": [
    "len(out_master)"
   ]
  },
  {
   "cell_type": "code",
   "execution_count": 14,
   "metadata": {},
   "outputs": [],
   "source": [
    "patchers_df['translated_name'] = patchers_df['name']\n",
    "patchers_df['definition'] = patchers_df.apply(lambda x: api.get_definition(x['id']), axis=1)"
   ]
  },
  {
   "cell_type": "code",
   "execution_count": 19,
   "metadata": {},
   "outputs": [],
   "source": [
    "out_master = pd.concat([patchers_df[patchers_df['currencyCode'].isin(l1_currencies)][['name', 'translated_name', 'definition']], out_master])"
   ]
  },
  {
   "cell_type": "code",
   "execution_count": 22,
   "metadata": {
    "collapsed": true
   },
   "outputs": [
    {
     "data": {
      "text/html": [
       "<div>\n",
       "<style scoped>\n",
       "    .dataframe tbody tr th:only-of-type {\n",
       "        vertical-align: middle;\n",
       "    }\n",
       "\n",
       "    .dataframe tbody tr th {\n",
       "        vertical-align: top;\n",
       "    }\n",
       "\n",
       "    .dataframe thead th {\n",
       "        text-align: right;\n",
       "    }\n",
       "</style>\n",
       "<table border=\"1\" class=\"dataframe\">\n",
       "  <thead>\n",
       "    <tr style=\"text-align: right;\">\n",
       "      <th></th>\n",
       "      <th>id</th>\n",
       "      <th>name</th>\n",
       "      <th>dateUtc</th>\n",
       "      <th>previous</th>\n",
       "      <th>unit</th>\n",
       "      <th>currencyCode</th>\n",
       "      <th>countryCode</th>\n",
       "      <th>volatility</th>\n",
       "      <th>potency</th>\n",
       "    </tr>\n",
       "  </thead>\n",
       "  <tbody>\n",
       "    <tr>\n",
       "      <th>1</th>\n",
       "      <td>42c939ba-18f0-40e8-8f7b-c76f7908841a</td>\n",
       "      <td>German Buba Monthly Report</td>\n",
       "      <td>2021-07-19 10:00:00</td>\n",
       "      <td>---</td>\n",
       "      <td></td>\n",
       "      <td>EUR</td>\n",
       "      <td>DE</td>\n",
       "      <td>LOW</td>\n",
       "      <td>None</td>\n",
       "    </tr>\n",
       "    <tr>\n",
       "      <th>5</th>\n",
       "      <td>c6d83305-0483-46a2-b329-74fe52ad5f27</td>\n",
       "      <td>New Loans</td>\n",
       "      <td>2021-07-12 07:00:00</td>\n",
       "      <td>---B</td>\n",
       "      <td></td>\n",
       "      <td>CNY</td>\n",
       "      <td>CN</td>\n",
       "      <td>LOW</td>\n",
       "      <td>B</td>\n",
       "    </tr>\n",
       "    <tr>\n",
       "      <th>6</th>\n",
       "      <td>17099714-2034-4d30-ba2f-45d557069e4a</td>\n",
       "      <td>M2 Money Supply</td>\n",
       "      <td>2021-07-12 07:00:00</td>\n",
       "      <td>---%</td>\n",
       "      <td>%</td>\n",
       "      <td>CNY</td>\n",
       "      <td>CN</td>\n",
       "      <td>LOW</td>\n",
       "      <td>ZERO</td>\n",
       "    </tr>\n",
       "    <tr>\n",
       "      <th>7</th>\n",
       "      <td>e8780ab9-7af1-4094-9e58-adcd04068a10</td>\n",
       "      <td>USDA WASDE Report</td>\n",
       "      <td>2021-07-12 16:00:00</td>\n",
       "      <td>---</td>\n",
       "      <td></td>\n",
       "      <td>USD</td>\n",
       "      <td>US</td>\n",
       "      <td>LOW</td>\n",
       "      <td>None</td>\n",
       "    </tr>\n",
       "    <tr>\n",
       "      <th>10</th>\n",
       "      <td>70aaa54a-89a9-4ea9-b1d2-e486e1b0487a</td>\n",
       "      <td>Producer Prices</td>\n",
       "      <td>2021-06-28 06:45:00</td>\n",
       "      <td>---%</td>\n",
       "      <td>%</td>\n",
       "      <td>EUR</td>\n",
       "      <td>FR</td>\n",
       "      <td>LOW</td>\n",
       "      <td>ZERO</td>\n",
       "    </tr>\n",
       "    <tr>\n",
       "      <th>11</th>\n",
       "      <td>58907ade-eb22-4931-a1c4-7a5295f60ac9</td>\n",
       "      <td>Services Sentiment</td>\n",
       "      <td>2021-06-28 09:00:00</td>\n",
       "      <td>---</td>\n",
       "      <td></td>\n",
       "      <td>EUR</td>\n",
       "      <td>EMU</td>\n",
       "      <td>LOW</td>\n",
       "      <td>ZERO</td>\n",
       "    </tr>\n",
       "    <tr>\n",
       "      <th>14</th>\n",
       "      <td>f9181763-a205-4b77-9e5a-f6373fc2b4a5</td>\n",
       "      <td>Economic Sentiment Indicator</td>\n",
       "      <td>2021-06-28 09:00:00</td>\n",
       "      <td>---</td>\n",
       "      <td></td>\n",
       "      <td>EUR</td>\n",
       "      <td>EMU</td>\n",
       "      <td>LOW</td>\n",
       "      <td>ZERO</td>\n",
       "    </tr>\n",
       "    <tr>\n",
       "      <th>16</th>\n",
       "      <td>f2cc7f9d-1e93-44b4-a3e8-62d901ea1a5f</td>\n",
       "      <td>Dallas Fed Manufacturing Business Index</td>\n",
       "      <td>2021-06-28 14:30:00</td>\n",
       "      <td>---</td>\n",
       "      <td></td>\n",
       "      <td>USD</td>\n",
       "      <td>US</td>\n",
       "      <td>LOW</td>\n",
       "      <td>ZERO</td>\n",
       "    </tr>\n",
       "    <tr>\n",
       "      <th>18</th>\n",
       "      <td>3cb81986-7ca2-4f0a-ac9a-fbf345cddb99</td>\n",
       "      <td>Credit Card Spending</td>\n",
       "      <td>2021-06-21 03:00:00</td>\n",
       "      <td>---%</td>\n",
       "      <td>%</td>\n",
       "      <td>NZD</td>\n",
       "      <td>NZ</td>\n",
       "      <td>LOW</td>\n",
       "      <td>None</td>\n",
       "    </tr>\n",
       "    <tr>\n",
       "      <th>24</th>\n",
       "      <td>829977b9-34e4-413c-a5fb-277092a2fd07</td>\n",
       "      <td>Westpac Consumer Survey</td>\n",
       "      <td>2021-06-14 21:00:00</td>\n",
       "      <td>---</td>\n",
       "      <td></td>\n",
       "      <td>NZD</td>\n",
       "      <td>NZ</td>\n",
       "      <td>MEDIUM</td>\n",
       "      <td>ZERO</td>\n",
       "    </tr>\n",
       "    <tr>\n",
       "      <th>25</th>\n",
       "      <td>4ec9dab6-97d2-4de5-bdb3-ffa8539975bb</td>\n",
       "      <td>Construction Work Done</td>\n",
       "      <td>2021-05-26 01:30:00</td>\n",
       "      <td>-0.9%</td>\n",
       "      <td>%</td>\n",
       "      <td>AUD</td>\n",
       "      <td>AU</td>\n",
       "      <td>LOW</td>\n",
       "      <td>ZERO</td>\n",
       "    </tr>\n",
       "    <tr>\n",
       "      <th>26</th>\n",
       "      <td>221cf014-65bc-4990-97df-d1a1a57e70a7</td>\n",
       "      <td>MBA Mortgage Applications</td>\n",
       "      <td>2021-05-26 11:00:00</td>\n",
       "      <td>---%</td>\n",
       "      <td>%</td>\n",
       "      <td>USD</td>\n",
       "      <td>US</td>\n",
       "      <td>LOW</td>\n",
       "      <td>None</td>\n",
       "    </tr>\n",
       "    <tr>\n",
       "      <th>27</th>\n",
       "      <td>3bb39206-06ac-4a2e-a526-d4678fc51d45</td>\n",
       "      <td>EIA Crude Oil Stocks Change</td>\n",
       "      <td>2021-05-26 14:30:00</td>\n",
       "      <td>---M</td>\n",
       "      <td></td>\n",
       "      <td>USD</td>\n",
       "      <td>US</td>\n",
       "      <td>LOW</td>\n",
       "      <td>M</td>\n",
       "    </tr>\n",
       "    <tr>\n",
       "      <th>28</th>\n",
       "      <td>8bcc49ad-dc78-4f93-9709-7e8e9b404245</td>\n",
       "      <td>Foreign Investment in Japan Stocks</td>\n",
       "      <td>2021-05-26 23:50:00</td>\n",
       "      <td>¥---B</td>\n",
       "      <td>¥</td>\n",
       "      <td>JPY</td>\n",
       "      <td>JP</td>\n",
       "      <td>LOW</td>\n",
       "      <td>B</td>\n",
       "    </tr>\n",
       "    <tr>\n",
       "      <th>34</th>\n",
       "      <td>2041c7a2-2c5b-4109-953b-9787955a621c</td>\n",
       "      <td>API Weekly Crude Oil Stock</td>\n",
       "      <td>2021-05-11 20:30:00</td>\n",
       "      <td>---M</td>\n",
       "      <td></td>\n",
       "      <td>USD</td>\n",
       "      <td>US</td>\n",
       "      <td>LOW</td>\n",
       "      <td>M</td>\n",
       "    </tr>\n",
       "    <tr>\n",
       "      <th>36</th>\n",
       "      <td>7a7e4478-c18a-4439-a451-0d6af55bb3fc</td>\n",
       "      <td>Electronic Card Retail Sales</td>\n",
       "      <td>2021-05-11 22:45:00</td>\n",
       "      <td>---%</td>\n",
       "      <td>%</td>\n",
       "      <td>NZD</td>\n",
       "      <td>NZ</td>\n",
       "      <td>LOW</td>\n",
       "      <td>ZERO</td>\n",
       "    </tr>\n",
       "    <tr>\n",
       "      <th>38</th>\n",
       "      <td>b02ad6f4-aecf-422e-a572-5fe22510c4ac</td>\n",
       "      <td>Unemployment Survey</td>\n",
       "      <td>2021-04-26 07:00:00</td>\n",
       "      <td>16.13%</td>\n",
       "      <td>%</td>\n",
       "      <td>EUR</td>\n",
       "      <td>ES</td>\n",
       "      <td>LOW</td>\n",
       "      <td>ZERO</td>\n",
       "    </tr>\n",
       "    <tr>\n",
       "      <th>42</th>\n",
       "      <td>3ca569cd-cb13-4e36-854e-6ef775f4ce8b</td>\n",
       "      <td>6-Month Bill Auction</td>\n",
       "      <td>2021-04-26 15:30:00</td>\n",
       "      <td>---%</td>\n",
       "      <td>%</td>\n",
       "      <td>USD</td>\n",
       "      <td>US</td>\n",
       "      <td>LOW</td>\n",
       "      <td>ZERO</td>\n",
       "    </tr>\n",
       "    <tr>\n",
       "      <th>43</th>\n",
       "      <td>00953a6c-01d4-4503-8965-f961a9b6c2e3</td>\n",
       "      <td>2-Year Note Auction</td>\n",
       "      <td>2021-04-26 17:00:00</td>\n",
       "      <td>---%</td>\n",
       "      <td>%</td>\n",
       "      <td>USD</td>\n",
       "      <td>US</td>\n",
       "      <td>LOW</td>\n",
       "      <td>ZERO</td>\n",
       "    </tr>\n",
       "  </tbody>\n",
       "</table>\n",
       "</div>"
      ],
      "text/plain": [
       "                                      id  \\\n",
       "1   42c939ba-18f0-40e8-8f7b-c76f7908841a   \n",
       "5   c6d83305-0483-46a2-b329-74fe52ad5f27   \n",
       "6   17099714-2034-4d30-ba2f-45d557069e4a   \n",
       "7   e8780ab9-7af1-4094-9e58-adcd04068a10   \n",
       "10  70aaa54a-89a9-4ea9-b1d2-e486e1b0487a   \n",
       "11  58907ade-eb22-4931-a1c4-7a5295f60ac9   \n",
       "14  f9181763-a205-4b77-9e5a-f6373fc2b4a5   \n",
       "16  f2cc7f9d-1e93-44b4-a3e8-62d901ea1a5f   \n",
       "18  3cb81986-7ca2-4f0a-ac9a-fbf345cddb99   \n",
       "24  829977b9-34e4-413c-a5fb-277092a2fd07   \n",
       "25  4ec9dab6-97d2-4de5-bdb3-ffa8539975bb   \n",
       "26  221cf014-65bc-4990-97df-d1a1a57e70a7   \n",
       "27  3bb39206-06ac-4a2e-a526-d4678fc51d45   \n",
       "28  8bcc49ad-dc78-4f93-9709-7e8e9b404245   \n",
       "34  2041c7a2-2c5b-4109-953b-9787955a621c   \n",
       "36  7a7e4478-c18a-4439-a451-0d6af55bb3fc   \n",
       "38  b02ad6f4-aecf-422e-a572-5fe22510c4ac   \n",
       "42  3ca569cd-cb13-4e36-854e-6ef775f4ce8b   \n",
       "43  00953a6c-01d4-4503-8965-f961a9b6c2e3   \n",
       "\n",
       "                                       name             dateUtc previous unit  \\\n",
       "1                German Buba Monthly Report 2021-07-19 10:00:00      ---        \n",
       "5                                 New Loans 2021-07-12 07:00:00     ---B        \n",
       "6                           M2 Money Supply 2021-07-12 07:00:00     ---%    %   \n",
       "7                         USDA WASDE Report 2021-07-12 16:00:00      ---        \n",
       "10                          Producer Prices 2021-06-28 06:45:00     ---%    %   \n",
       "11                       Services Sentiment 2021-06-28 09:00:00      ---        \n",
       "14             Economic Sentiment Indicator 2021-06-28 09:00:00      ---        \n",
       "16  Dallas Fed Manufacturing Business Index 2021-06-28 14:30:00      ---        \n",
       "18                     Credit Card Spending 2021-06-21 03:00:00     ---%    %   \n",
       "24                  Westpac Consumer Survey 2021-06-14 21:00:00      ---        \n",
       "25                   Construction Work Done 2021-05-26 01:30:00    -0.9%    %   \n",
       "26                MBA Mortgage Applications 2021-05-26 11:00:00     ---%    %   \n",
       "27              EIA Crude Oil Stocks Change 2021-05-26 14:30:00     ---M        \n",
       "28       Foreign Investment in Japan Stocks 2021-05-26 23:50:00    ¥---B    ¥   \n",
       "34               API Weekly Crude Oil Stock 2021-05-11 20:30:00     ---M        \n",
       "36             Electronic Card Retail Sales 2021-05-11 22:45:00     ---%    %   \n",
       "38                      Unemployment Survey 2021-04-26 07:00:00   16.13%    %   \n",
       "42                     6-Month Bill Auction 2021-04-26 15:30:00     ---%    %   \n",
       "43                      2-Year Note Auction 2021-04-26 17:00:00     ---%    %   \n",
       "\n",
       "   currencyCode countryCode volatility potency  \n",
       "1           EUR          DE        LOW    None  \n",
       "5           CNY          CN        LOW       B  \n",
       "6           CNY          CN        LOW    ZERO  \n",
       "7           USD          US        LOW    None  \n",
       "10          EUR          FR        LOW    ZERO  \n",
       "11          EUR         EMU        LOW    ZERO  \n",
       "14          EUR         EMU        LOW    ZERO  \n",
       "16          USD          US        LOW    ZERO  \n",
       "18          NZD          NZ        LOW    None  \n",
       "24          NZD          NZ     MEDIUM    ZERO  \n",
       "25          AUD          AU        LOW    ZERO  \n",
       "26          USD          US        LOW    None  \n",
       "27          USD          US        LOW       M  \n",
       "28          JPY          JP        LOW       B  \n",
       "34          USD          US        LOW       M  \n",
       "36          NZD          NZ        LOW    ZERO  \n",
       "38          EUR          ES        LOW    ZERO  \n",
       "42          USD          US        LOW    ZERO  \n",
       "43          USD          US        LOW    ZERO  "
      ]
     },
     "execution_count": 22,
     "metadata": {},
     "output_type": "execute_result"
    }
   ],
   "source": [
    "patchers_df[~patchers_df['name'].isin(out_master['name'])].head(20)"
   ]
  },
  {
   "cell_type": "code",
   "execution_count": 23,
   "metadata": {},
   "outputs": [],
   "source": [
    "out_master=pd.concat([out_master, patchers_df]).drop_duplicates(['name'])"
   ]
  },
  {
   "cell_type": "code",
   "execution_count": 29,
   "metadata": {},
   "outputs": [],
   "source": [
    "out_master = out_master[~out_master['name'].isin(['REINZ House Price Index'])]"
   ]
  },
  {
   "cell_type": "code",
   "execution_count": 25,
   "metadata": {},
   "outputs": [],
   "source": [
    "op.workbook.df_to_sheet(out_master[['name', 'translated_name', 'definition']], sheet='Economic Calendar Definitions')"
   ]
  },
  {
   "cell_type": "code",
   "execution_count": 24,
   "metadata": {},
   "outputs": [
    {
     "data": {
      "text/html": [
       "<div>\n",
       "<style scoped>\n",
       "    .dataframe tbody tr th:only-of-type {\n",
       "        vertical-align: middle;\n",
       "    }\n",
       "\n",
       "    .dataframe tbody tr th {\n",
       "        vertical-align: top;\n",
       "    }\n",
       "\n",
       "    .dataframe thead th {\n",
       "        text-align: right;\n",
       "    }\n",
       "</style>\n",
       "<table border=\"1\" class=\"dataframe\">\n",
       "  <thead>\n",
       "    <tr style=\"text-align: right;\">\n",
       "      <th></th>\n",
       "      <th>name</th>\n",
       "      <th>translated_name</th>\n",
       "      <th>definition</th>\n",
       "    </tr>\n",
       "  </thead>\n",
       "  <tbody>\n",
       "    <tr>\n",
       "      <th>171</th>\n",
       "      <td>RBA Interest Rate Decision</td>\n",
       "      <td>RBA Interest Rate Decision</td>\n",
       "      <td>The RBA Interest Rate Decision is announced by...</td>\n",
       "    </tr>\n",
       "    <tr>\n",
       "      <th>172</th>\n",
       "      <td>RBA Rate Statement</td>\n",
       "      <td>RBA Rate Statement</td>\n",
       "      <td>Decisions regarding the interest rates are mad...</td>\n",
       "    </tr>\n",
       "    <tr>\n",
       "      <th>173</th>\n",
       "      <td>AiG Performance of Construction Index</td>\n",
       "      <td>AiG Performance of Construction Index</td>\n",
       "      <td>The AiG Performance of Construction Index is a...</td>\n",
       "    </tr>\n",
       "    <tr>\n",
       "      <th>175</th>\n",
       "      <td>Monetary Policy Summary</td>\n",
       "      <td>Monetary Policy Summary</td>\n",
       "      <td>The Monetary Policy Summary contains the outco...</td>\n",
       "    </tr>\n",
       "    <tr>\n",
       "      <th>176</th>\n",
       "      <td>Unit Labor Costs</td>\n",
       "      <td>Unit Labor Costs</td>\n",
       "      <td>The Unit Labor Cost shows the total cost of em...</td>\n",
       "    </tr>\n",
       "    <tr>\n",
       "      <th>177</th>\n",
       "      <td>RBA Meeting Minutes</td>\n",
       "      <td>RBA Meeting Minutes</td>\n",
       "      <td>The minutes of the Reserve Bank of Australia m...</td>\n",
       "    </tr>\n",
       "    <tr>\n",
       "      <th>178</th>\n",
       "      <td>BSI Large Manufacturing Conditions Index</td>\n",
       "      <td>BSI Large Manufacturing Conditions Index</td>\n",
       "      <td>The Business Survey Index (BSI) Large Manufact...</td>\n",
       "    </tr>\n",
       "    <tr>\n",
       "      <th>179</th>\n",
       "      <td>Labor Cost</td>\n",
       "      <td>Labor Cost</td>\n",
       "      <td>The quarterly Labor Cost shows the short-term ...</td>\n",
       "    </tr>\n",
       "    <tr>\n",
       "      <th>180</th>\n",
       "      <td>Consumer Inflation Expectations</td>\n",
       "      <td>Consumer Inflation Expectations</td>\n",
       "      <td>The Consumer Inflation Expectation presents th...</td>\n",
       "    </tr>\n",
       "    <tr>\n",
       "      <th>181</th>\n",
       "      <td>Wholesale Price Index</td>\n",
       "      <td>Wholesale Price Index</td>\n",
       "      <td>The Wholesale Price Index shows the value of s...</td>\n",
       "    </tr>\n",
       "  </tbody>\n",
       "</table>\n",
       "</div>"
      ],
      "text/plain": [
       "                                         name  \\\n",
       "171                RBA Interest Rate Decision   \n",
       "172                        RBA Rate Statement   \n",
       "173     AiG Performance of Construction Index   \n",
       "175                   Monetary Policy Summary   \n",
       "176                          Unit Labor Costs   \n",
       "177                       RBA Meeting Minutes   \n",
       "178  BSI Large Manufacturing Conditions Index   \n",
       "179                                Labor Cost   \n",
       "180           Consumer Inflation Expectations   \n",
       "181                     Wholesale Price Index   \n",
       "\n",
       "                              translated_name  \\\n",
       "171                RBA Interest Rate Decision   \n",
       "172                        RBA Rate Statement   \n",
       "173     AiG Performance of Construction Index   \n",
       "175                   Monetary Policy Summary   \n",
       "176                          Unit Labor Costs   \n",
       "177                       RBA Meeting Minutes   \n",
       "178  BSI Large Manufacturing Conditions Index   \n",
       "179                                Labor Cost   \n",
       "180           Consumer Inflation Expectations   \n",
       "181                     Wholesale Price Index   \n",
       "\n",
       "                                            definition  \n",
       "171  The RBA Interest Rate Decision is announced by...  \n",
       "172  Decisions regarding the interest rates are mad...  \n",
       "173  The AiG Performance of Construction Index is a...  \n",
       "175  The Monetary Policy Summary contains the outco...  \n",
       "176  The Unit Labor Cost shows the total cost of em...  \n",
       "177  The minutes of the Reserve Bank of Australia m...  \n",
       "178  The Business Survey Index (BSI) Large Manufact...  \n",
       "179  The quarterly Labor Cost shows the short-term ...  \n",
       "180  The Consumer Inflation Expectation presents th...  \n",
       "181  The Wholesale Price Index shows the value of s...  "
      ]
     },
     "execution_count": 24,
     "metadata": {},
     "output_type": "execute_result"
    }
   ],
   "source": [
    "out_master.tail(10)"
   ]
  },
  {
   "cell_type": "markdown",
   "metadata": {},
   "source": [
    "### Get ids from events_master, push to google sheets"
   ]
  },
  {
   "cell_type": "code",
   "execution_count": 26,
   "metadata": {},
   "outputs": [
    {
     "name": "stdout",
     "output_type": "stream",
     "text": [
      "57\n"
     ]
    }
   ],
   "source": [
    "out_master = out_master[~out_master['name'].isin(known_good_defs['name'])]\n",
    "print(len(out_master))"
   ]
  },
  {
   "cell_type": "code",
   "execution_count": 27,
   "metadata": {},
   "outputs": [],
   "source": [
    "out_master['definition'] = out_master.apply(lambda x: api.get_definition(x['id']), axis=1)"
   ]
  },
  {
   "cell_type": "code",
   "execution_count": 28,
   "metadata": {},
   "outputs": [],
   "source": [
    "out_master['translated_name'] = out_master['name']\n",
    "out_master = pd.concat([known_good_defs, out_master])\n",
    "op.workbook.df_to_sheet(out_master[['name', 'translated_name', 'definition']], sheet='Economic Calendar Definitions')"
   ]
  },
  {
   "cell_type": "code",
   "execution_count": 31,
   "metadata": {},
   "outputs": [
    {
     "data": {
      "text/plain": [
       "230"
      ]
     },
     "execution_count": 31,
     "metadata": {},
     "output_type": "execute_result"
    }
   ],
   "source": [
    "len(out_master)"
   ]
  },
  {
   "cell_type": "code",
   "execution_count": 24,
   "metadata": {},
   "outputs": [],
   "source": [
    "op.workbook.df_to_sheet(out_master[['name', 'translated_name', 'definition']], sheet='Economic Calendar Definitions')"
   ]
  },
  {
   "cell_type": "markdown",
   "metadata": {},
   "source": [
    "### German"
   ]
  },
  {
   "cell_type": "code",
   "execution_count": 28,
   "metadata": {},
   "outputs": [],
   "source": [
    "DEEPL_AUTH = '128b4f74-108b-c09d-ba5b-a66ae4237dec'\n",
    "DEEPL_URL = 'https://api.deepl.com/v2/translate'\n",
    "def get_translation(to_translate, from_lang='EN', to_lang='DE'):\n",
    "    time.sleep(0.1)\n",
    "    post_fields = {\n",
    "        'auth_key': DEEPL_AUTH,\n",
    "        'text': to_translate,\n",
    "        'target_lang': to_lang,\n",
    "        'source_lang': from_lang,\n",
    "    }\n",
    "    request = requests.post(DEEPL_URL, params=post_fields)\n",
    "    response = json.loads(request.content.decode('utf-8'))\n",
    "    return response['translations'][0]['text']"
   ]
  },
  {
   "cell_type": "code",
   "execution_count": 30,
   "metadata": {},
   "outputs": [],
   "source": [
    "# german_defs = op.workbook.sheet_to_df(sheet='English')\n",
    "# german_defs['translated_name'] = german_defs['translated_name'].apply(get_translation)\n",
    "# german_defs['definition'] = german_defs['definition'].apply(get_translation)\n",
    "op.workbook.df_to_sheet(german_defs, sheet='German')"
   ]
  },
  {
   "cell_type": "code",
   "execution_count": null,
   "metadata": {},
   "outputs": [],
   "source": []
  }
 ],
 "metadata": {
  "kernelspec": {
   "display_name": "Python 3.8.1 64-bit",
   "language": "python",
   "name": "python38164bit61b3c2e82a9341da9b5a1471f6332283"
  },
  "language_info": {
   "codemirror_mode": {
    "name": "ipython",
    "version": 3
   },
   "file_extension": ".py",
   "mimetype": "text/x-python",
   "name": "python",
   "nbconvert_exporter": "python",
   "pygments_lexer": "ipython3",
   "version": "3.8.1"
  }
 },
 "nbformat": 4,
 "nbformat_minor": 4
}
